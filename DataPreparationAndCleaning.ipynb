{
 "cells": [
  {
   "cell_type": "markdown",
   "metadata": {},
   "source": [
    "Here the necessary libraries are going to be imported and all the relevent files also."
   ]
  },
  {
   "cell_type": "code",
   "execution_count": 1,
   "metadata": {},
   "outputs": [],
   "source": [
    "import os\n",
    "import pandas as pd \n",
    "import numpy as numpy\n",
    "import re\n",
    "os.chdir(r'C:\\Users\\HP')\n",
    "df1=pd.read_csv('powerbank1.csv')\n",
    "df2=pd.read_csv('powerbank2.csv')\n",
    "df3=pd.read_csv('powerbank3.csv')\n"
   ]
  },
  {
   "cell_type": "markdown",
   "metadata": {},
   "source": [
    "Here the function is defined to change the currency into integers. Any other function required would also be defined here"
   ]
  },
  {
   "cell_type": "code",
   "execution_count": 2,
   "metadata": {},
   "outputs": [],
   "source": [
    "def convert(n):\n",
    "    n=n.strip('Rs.')\n",
    "    nn=n.split(',')\n",
    "    m=''.join([str(item) for item in nn])\n",
    "    return int(m)\n",
    "def rating_convert(n):\n",
    "    try:\n",
    "        array=re.findall(r'[0-9]+',n)\n",
    "        return int(array[0])\n",
    "    except TypeError:\n",
    "        pass"
   ]
  },
  {
   "cell_type": "markdown",
   "metadata": {},
   "source": [
    "Here the currency conversion for each data frame is going to be executed"
   ]
  },
  {
   "cell_type": "code",
   "execution_count": 3,
   "metadata": {},
   "outputs": [],
   "source": [
    "df1['Prices']=df1['Prices'].map(lambda x: convert(x))\n",
    "df2['Prices']=df2['Prices'].map(lambda x: convert(x))\n",
    "df3['Prices']=df3['Prices'].map(lambda x: convert(x))\n",
    "\n"
   ]
  },
  {
   "cell_type": "markdown",
   "metadata": {},
   "source": [
    "Here the ratings adjustments are going to be executed as per the dataframe for a more suitable form."
   ]
  },
  {
   "cell_type": "code",
   "execution_count": 4,
   "metadata": {},
   "outputs": [],
   "source": [
    "df1['Ratings']=df1['Ratings'].map(lambda x: abs(x))\n",
    "df3['Ratings']=df3['Ratings'].map(lambda x: rating_convert(x))\n",
    "df2['Ratings']=df2['Ratings'].map(lambda x: rating_convert(x))"
   ]
  },
  {
   "cell_type": "markdown",
   "metadata": {},
   "source": [
    "Here the description of the data is going to be shown for having the rough estimates about the data :)"
   ]
  },
  {
   "cell_type": "code",
   "execution_count": 6,
   "metadata": {},
   "outputs": [],
   "source": [
    "df4=pd.DataFrame(df1.describe())\n",
    "df5=pd.DataFrame(df2.describe())\n",
    "df6=pd.DataFrame(df3.describe())"
   ]
  },
  {
   "cell_type": "markdown",
   "metadata": {},
   "source": [
    "Now going to save the dataframes in the system for exploration with the Excel and R :)"
   ]
  },
  {
   "cell_type": "code",
   "execution_count": 23,
   "metadata": {},
   "outputs": [],
   "source": [
    "os.chdir(r'Algorithms')\n",
    "df1.to_csv('pb1.csv')\n",
    "df2.to_csv('pb2.csv')\n",
    "df3.to_csv('pb3.csv')"
   ]
  },
  {
   "cell_type": "markdown",
   "metadata": {},
   "source": [
    "Here we save the descriptions of the data files in the systems to interact with them and add them to our report ;)"
   ]
  },
  {
   "cell_type": "code",
   "execution_count": 7,
   "metadata": {},
   "outputs": [],
   "source": [
    "os.chdir(r'Algorithms')\n",
    "df4.to_csv('des1.csv')\n",
    "df5.to_csv('des2.csv')\n",
    "df6.to_csv('des3.csv')"
   ]
  }
 ],
 "metadata": {
  "kernelspec": {
   "display_name": "Python 3.9.5 64-bit",
   "language": "python",
   "name": "python3"
  },
  "language_info": {
   "codemirror_mode": {
    "name": "ipython",
    "version": 3
   },
   "file_extension": ".py",
   "mimetype": "text/x-python",
   "name": "python",
   "nbconvert_exporter": "python",
   "pygments_lexer": "ipython3",
   "version": "3.9.5"
  },
  "orig_nbformat": 4,
  "vscode": {
   "interpreter": {
    "hash": "f6246b25e200e4c5124e3e61789ac81350562f0761bbcf92ad9e48654207659c"
   }
  }
 },
 "nbformat": 4,
 "nbformat_minor": 2
}
